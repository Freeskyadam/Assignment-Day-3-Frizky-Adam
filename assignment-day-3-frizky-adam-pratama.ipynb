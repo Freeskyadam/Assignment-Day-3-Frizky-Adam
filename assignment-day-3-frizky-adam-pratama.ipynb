{
  "nbformat": 4,
  "nbformat_minor": 0,
  "metadata": {
    "colab": {
      "name": "Assignment Day 3 Frizky Adam Pratama",
      "provenance": [],
      "collapsed_sections": [],
      "authorship_tag": "ABX9TyPoqH7IJPrA+3HppzRp9wrK",
      "include_colab_link": true
    },
    "kernelspec": {
      "name": "python3",
      "display_name": "Python 3"
    },
    "language_info": {
      "name": "python"
    }
  },
  "cells": [
    {
      "cell_type": "markdown",
      "metadata": {
        "id": "view-in-github",
        "colab_type": "text"
      },
      "source": [
        "<a href=\"https://colab.research.google.com/gist/Freeskyadam/c05eb77edf41ba951ea60ffe24bb10f5/assignment-day-3-frizky-adam-pratama.ipynb\" target=\"_parent\"><img src=\"https://colab.research.google.com/assets/colab-badge.svg\" alt=\"Open In Colab\"/></a>"
      ]
    },
    {
      "cell_type": "markdown",
      "source": [
        "Basic Python - Basic (50 poin) Buatlah program untuk kasus-kasus berikut:\n",
        "\n",
        "1.Buatlah program yang meminta user untuk menginputkan nama mereka. Program harus merespon dengan pesan yang menyambut user dengan sapaan “Hi/Hallo” atau apapun, disertai dengan nama user tersebut.\n"
      ],
      "metadata": {
        "id": "PYFXVfWtt6mD"
      }
    },
    {
      "cell_type": "code",
      "source": [
        "nama = input(\"Siapa kah kamu: \")\n",
        "print(f\"Hello  {nama} salam kenal\")"
      ],
      "metadata": {
        "id": "Q-0uM0y5t8In",
        "colab": {
          "base_uri": "https://localhost:8080/"
        },
        "outputId": "5b6c77a0-5dc4-42ea-fbd2-a95413f2548b"
      },
      "execution_count": null,
      "outputs": [
        {
          "output_type": "stream",
          "name": "stdout",
          "text": [
            "Siapa kah kamu: adam\n",
            "Hello  adam salam kenal\n"
          ]
        }
      ]
    },
    {
      "cell_type": "markdown",
      "source": [
        "2.Buatlah program yang meminta user untuk mengisi panjang dan lebar dari suatu ruangan. Peserta diminta untuk memberikan output dengan dua satuan yang berbeda:\n",
        "\n",
        "a. Luas dalam meter persegi\n",
        "\n",
        "b. Luas dalam hektar\n"
      ],
      "metadata": {
        "id": "VrF0JlthuAMn"
      }
    },
    {
      "cell_type": "code",
      "source": [
        "panjang = float(input(\"masukkan nilai panjang dalam satuan m : \"))\n",
        "lebar = float(input(\"masukkan nilai lebar dalam satuan m : \"))\n",
        "luas_m = panjang*lebar\n",
        "luas_h = luas_m/10000\n",
        "print()\n",
        "print(f\"Luas dalam satuan meter adalah {luas_m} \\n\")\n",
        "print(f\"Luas dalam satuan hektar adalah {luas_h}\")"
      ],
      "metadata": {
        "id": "hus_49ad-5qO",
        "colab": {
          "base_uri": "https://localhost:8080/"
        },
        "outputId": "30c57e8b-eaa8-44d7-8908-bb35417d6869"
      },
      "execution_count": null,
      "outputs": [
        {
          "output_type": "stream",
          "name": "stdout",
          "text": [
            "masukkan nilai panjang dalam satuan m : 10\n",
            "masukkan nilai lebar dalam satuan m : 20\n",
            "\n",
            "Luas dalam satuan meter adalah 200.0 \n",
            "\n",
            "Luas dalam satuan hektar adalah 0.02\n"
          ]
        }
      ]
    },
    {
      "cell_type": "markdown",
      "source": [
        "3.Buatlah sebuah program yang dapat menghitung jumlah dari n bilangan pertama dari bilangan natural atau bilangan bulat positif. Misal jika user memberikan input n = 10 maka program harus menghitung jumlah dari 1 + 2+ 3+ … + 10"
      ],
      "metadata": {
        "id": "jgdHtQLHvcqk"
      }
    },
    {
      "cell_type": "code",
      "source": [
        "def Nilai(n):\n",
        "  Nilai = input('Masukkan nilai n: ')\n",
        "  hasil = 0\n",
        "  for suku in range(1, n+1, 1):\n",
        "    hasil = hasil + suku\n",
        "  return print(\"Nilai = {}\".format(hasil))\n",
        "\n",
        "Nilai(5)"
      ],
      "metadata": {
        "colab": {
          "base_uri": "https://localhost:8080/"
        },
        "id": "lwsXaNWQBcP1",
        "outputId": "ec09c879-4a22-461a-82e7-6122d27cf9b9"
      },
      "execution_count": null,
      "outputs": [
        {
          "output_type": "stream",
          "name": "stdout",
          "text": [
            "Masukkan nilai n: 5\n",
            "Nilai = 15\n"
          ]
        }
      ]
    },
    {
      "cell_type": "markdown",
      "source": [
        "4.Buatlah program untuk menghitung luas segitiga dengan dua cara:\n",
        "\n",
        "a.Menghitung luas segitiga dengan rumus (alas x tinggi)/2\n",
        "\n",
        "b.Menghitung luas segitiga dengan rumus heron\n",
        "\n",
        "Jangan lupa bahwa program meminta input dari user tergantung rumus apa yang digunakan\n"
      ],
      "metadata": {
        "id": "WqpwHeBFwxoe"
      }
    },
    {
      "cell_type": "code",
      "source": [
        "# Task Basic No 4 a\n",
        "import math\n",
        "print('Menghitung luas Segitiga\\n')\n",
        "alas = input('Masukkan nilai alas: ')\n",
        "tinggi = input('Masukkan nilai tinggi: ')\n",
        "\n",
        "print('Luas segitiga=' , float(alas) * float(tinggi) / 2)"
      ],
      "metadata": {
        "id": "XX_uVZnxOeEm",
        "colab": {
          "base_uri": "https://localhost:8080/"
        },
        "outputId": "50bbf102-494e-487c-c316-1015e3fd1289"
      },
      "execution_count": null,
      "outputs": [
        {
          "output_type": "stream",
          "name": "stdout",
          "text": [
            "Menghitung luas Segitiga\n",
            "\n",
            "Masukkan nilai alas: 10\n",
            "Masukkan nilai tinggi: 15\n",
            "Luas segitiga= 75.0\n"
          ]
        }
      ]
    },
    {
      "cell_type": "code",
      "source": [
        "# Task Basic No 4 b\n",
        "sisi_a = float(input(\"masukkan nilai sisi a :\"))\n",
        "sisi_b = float(input(\"masukkan nilai sisi b :\"))\n",
        "sisi_c = float(input(\"masukkan nilai sisi c :\"))\n",
        "s = (sisi_a+sisi_b+sisi_c)/2\n",
        "rumus_segitiga_heron = math.sqrt(s*(s-sisi_a)*(s-sisi_b)*(s-sisi_c))\n",
        "print(f\"luas segitiga rumus heron {rumus_segitiga_heron}\")"
      ],
      "metadata": {
        "id": "m-PL4CxiSH3i",
        "colab": {
          "base_uri": "https://localhost:8080/"
        },
        "outputId": "0bdc9fc1-91e2-4795-d604-6142a86fbd0d"
      },
      "execution_count": null,
      "outputs": [
        {
          "output_type": "stream",
          "name": "stdout",
          "text": [
            "masukkan nilai sisi a :3.5\n",
            "masukkan nilai sisi b :2.5\n",
            "masukkan nilai sisi c :4.5\n",
            "luas segitiga rumus heron 4.353070037341462\n"
          ]
        }
      ]
    },
    {
      "cell_type": "markdown",
      "source": [
        "5.Bedasarkan data terkait magnitude gempa dan deskripsinya:\n",
        "\n",
        "Buatlah program yang membaca input magnitude gempa dari user dan program menunjukkan informasi deskripsi dari gempa tersebut. Contoh: Jika user memberi input 5.5 maka output dari program adalah “Moderate earthquake”\n"
      ],
      "metadata": {
        "id": "vm8aNj_5xOkP"
      }
    },
    {
      "cell_type": "code",
      "source": [
        "# Task Basic No 5\n",
        "Magnitude = float(input(\"Magnitude gempa: \"))\n",
        "if Magnitude >= 0. :\n",
        "      if Magnitude < 2.0 :\n",
        "            print('Micro earthquake')\n",
        "      elif Magnitude >= 2.0 and Magnitude <= 2.9 :\n",
        "              print('Minor earthquake')\n",
        "      elif Magnitude <= 3.9:\n",
        "              print(\"Minor earthquake\")\n",
        "      elif Magnitude <= 4.9:\n",
        "              print(\"Light earthquake\")\n",
        "      elif Magnitude <= 5.9:\n",
        "              print(\"Moderate earthquake\")\n",
        "      elif Magnitude <= 6.9:\n",
        "              print('Strong earthquake')\n",
        "      elif Magnitude <= 7.9:\n",
        "              print(\"Major earthquake\")\n",
        "      elif Magnitude <= 8.9:\n",
        "              print(\"Great earthquake\")\n",
        "      elif Magnitude <= 9.9:\n",
        "              print(\"Great earthquake\")\n",
        "      else:\n",
        "               print(\"Massive earthquake\")\n",
        "else:\n",
        "       print(\"Error\")"
      ],
      "metadata": {
        "colab": {
          "base_uri": "https://localhost:8080/"
        },
        "id": "iuGGwnNX_ab-",
        "outputId": "d8da10b2-718c-4ba9-bef7-bd2dbb5e5d61"
      },
      "execution_count": null,
      "outputs": [
        {
          "output_type": "stream",
          "name": "stdout",
          "text": [
            "Magnitude gempa: 5.9\n",
            "Moderate earthquake\n"
          ]
        }
      ]
    },
    {
      "cell_type": "code",
      "source": [
        "import pandas as pd\n",
        "import numpy as np\n",
        "import matplotlib.pyplot as plt"
      ],
      "metadata": {
        "id": "pQENkab9FRpC"
      },
      "execution_count": 2,
      "outputs": []
    },
    {
      "cell_type": "markdown",
      "source": [
        "Basic Python - Advanced (50 poin)\n",
        "\n",
        "Ada banyak cara untuk membuat model regresi linier, bisa menggunakan package seperti scikit-learn, statsmodels, H2O atau bisa juga dengan melakukan perhitungan manual seperti menggunakan numpy.\n",
        "\n",
        "1.Visualisasikan data yang diberikan menggunakan matplotlib.\n"
      ],
      "metadata": {
        "id": "rbZLSj-mFTfI"
      }
    },
    {
      "cell_type": "code",
      "source": [
        "df = pd.read_csv('https://raw.githubusercontent.com/hadimaster65555/dataset_for_teaching/main/dataset/linear_regression_simulation_data/linear-regression.csv')\n",
        "df = df.T.reset_index().T.reset_index(drop=True)\n",
        "\n",
        "df.columns  = [\"X\",\"Y\"]\n",
        "\n",
        "df[\"X\"] = df['X'].astype(float)\n",
        "df[\"Y\"] = df[\"Y\"].astype(float)\n",
        "df.info()"
      ],
      "metadata": {
        "colab": {
          "base_uri": "https://localhost:8080/"
        },
        "id": "jhZJTBuXFV_h",
        "outputId": "b3bc52ce-008d-43e4-b14c-f465839af0b5"
      },
      "execution_count": 3,
      "outputs": [
        {
          "output_type": "stream",
          "name": "stdout",
          "text": [
            "<class 'pandas.core.frame.DataFrame'>\n",
            "RangeIndex: 100 entries, 0 to 99\n",
            "Data columns (total 2 columns):\n",
            " #   Column  Non-Null Count  Dtype  \n",
            "---  ------  --------------  -----  \n",
            " 0   X       100 non-null    float64\n",
            " 1   Y       100 non-null    float64\n",
            "dtypes: float64(2)\n",
            "memory usage: 1.7 KB\n"
          ]
        }
      ]
    },
    {
      "cell_type": "code",
      "source": [
        "plt.scatter(df.X,df.Y,label=\"random data\")\n",
        "plt.legend(loc=\"upper right\");"
      ],
      "metadata": {
        "colab": {
          "base_uri": "https://localhost:8080/",
          "height": 265
        },
        "id": "HWtKBMsoFafy",
        "outputId": "5663dc98-4606-49a0-c229-b42f670ac62e"
      },
      "execution_count": 4,
      "outputs": [
        {
          "output_type": "display_data",
          "data": {
            "text/plain": [
              "<Figure size 432x288 with 1 Axes>"
            ],
            "image/png": "[encoded data removed]"
          },
          "metadata": {
            "needs_background": "light"
          }
        }
      ]
    },
    {
      "cell_type": "markdown",
      "source": [
        "2.Buatlah program untuk menghitung regresi linier menggunakan metode invers matriks\n",
        "\n",
        "dimana:\n",
        "\n",
        "x adalah koefisien dari model regresi yang ingin dicari\n",
        "\n",
        "A adalah matriks data\n",
        "\n",
        "AT adalah transpose dari A\n",
        "\n",
        "A-1 adalah invers dari matriks A\n",
        "\n",
        "y adalah variabel target\n"
      ],
      "metadata": {
        "id": "dZuCO3GVFjKM"
      }
    },
    {
      "cell_type": "code",
      "source": [
        "X = df.X.values\n",
        "y = df.Y.values\n",
        "\n",
        "titik_X=np.vstack((np.ones(len(X)), X)).T\n",
        "beta = np.linalg.inv(titik_X.T.dot(titik_X)).dot(titik_X.T).dot(y)\n",
        "\n",
        "titik_Y = titik_X.dot(beta)\n",
        "\n",
        "# plot data\n",
        "plt.scatter(X, y,label=\"data\")\n",
        "plt.plot(X, titik_Y, color='red',label=\"fitted line\")\n",
        "\n",
        "# Membuat teks pada x=0.25 dan y=3 dan x=0.25 dan y=2 berukuran 12 dengan warna merah\n",
        "plt.text(0.25,3, r\"$\\beta_0 = 3.99187633$\", fontsize=12, color=\"r\")\n",
        "plt.text(0.25,2, r\"$\\beta_1 = 2.98060191$\", fontsize=12, color=\"r\")\n",
        "plt.legend()"
      ],
      "metadata": {
        "colab": {
          "base_uri": "https://localhost:8080/",
          "height": 283
        },
        "id": "4gim8QCuFmkh",
        "outputId": "fabaa933-499e-4fe1-ab54-ec3ddeb21582"
      },
      "execution_count": 11,
      "outputs": [
        {
          "output_type": "execute_result",
          "data": {
            "text/plain": [
              "<matplotlib.legend.Legend at 0x7f4ec3514690>"
            ]
          },
          "metadata": {},
          "execution_count": 11
        },
        {
          "output_type": "display_data",
          "data": {
            "text/plain": [
              "<Figure size 432x288 with 1 Axes>"
            ],
            "image/png": "[encoded data removed]"
          },
          "metadata": {
            "needs_background": "light"
          }
        }
      ]
    },
    {
      "cell_type": "markdown",
      "source": [
        "3.Buatlah program untuk menghitung regresi linier menggunakan method linalg.lstsq dari numpys"
      ],
      "metadata": {
        "id": "eTRAPXpzKadr"
      }
    },
    {
      "cell_type": "code",
      "source": [
        "x = df.X\n",
        "A = np.array([x, np.ones(x.shape[0])])\n",
        "y = df.Y\n",
        "\n",
        "w = np.linalg.lstsq(A.T, y, rcond=None)[0]\n",
        "print(w)\n",
        "\n",
        "line = w[0]*x + w[1] \n",
        "plt.plot(x, line, 'r-',label=\"fitted line\")\n",
        "plt.plot(x, y, 'o',label='data')\n",
        "\n",
        "# Menambah teks pada x=0.25 dan y=3 dan x=0.25 dan y=2 berukuran 12 dengan warna merah\n",
        "plt.text(0.25,3, r\"$\\beta_1 = 3.99187633$\", fontsize=12, color=\"r\")\n",
        "plt.text(0.25,2, r\"$\\beta_0 = 2.98060191$\", fontsize=12, color=\"r\")\n",
        "plt.legend()\n",
        "plt.show()"
      ],
      "metadata": {
        "colab": {
          "base_uri": "https://localhost:8080/",
          "height": 283
        },
        "id": "-CnzBkhHKgeB",
        "outputId": "1684db1f-a416-4fa7-8c09-c2cdb2757567"
      },
      "execution_count": 13,
      "outputs": [
        {
          "output_type": "stream",
          "name": "stdout",
          "text": [
            "[2.98060191 3.99187633]\n"
          ]
        },
        {
          "output_type": "display_data",
          "data": {
            "text/plain": [
              "<Figure size 432x288 with 1 Axes>"
            ],
            "image/png": "[encoded data removed]"
          },
          "metadata": {
            "needs_background": "light"
          }
        }
      ]
    }
  ]
}